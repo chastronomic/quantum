{
 "cells": [
  {
   "cell_type": "code",
   "execution_count": 1,
   "id": "c3264329-564a-444e-ac90-e780d93ca2c8",
   "metadata": {},
   "outputs": [],
   "source": [
    "import pennylane as qml\n",
    "from jax import numpy as np\n",
    "import jax"
   ]
  },
  {
   "cell_type": "code",
   "execution_count": 3,
   "id": "20339bc0-660d-4b69-aa78-0fb8686bc656",
   "metadata": {},
   "outputs": [],
   "source": [
    "dev1 = qml.device(\"lightning.qubit\", wires =1) #wires is basically the number of subsystems to initialise the device we are calling, in this case only a singular qubit"
   ]
  },
  {
   "cell_type": "code",
   "execution_count": 4,
   "id": "ba2dc33e-59fd-48dc-b36d-46aac1dac426",
   "metadata": {},
   "outputs": [],
   "source": [
    "#QNodes: Abstract encapsulation of a quantum function, described by a quantum circuit. They are bound to a singular particular quantum device, which is used to evaluate expectation and variance of this circuit"
   ]
  },
  {
   "cell_type": "code",
   "execution_count": 6,
   "id": "8562d8e1-b95a-455e-8919-1f96ee04ba8e",
   "metadata": {},
   "outputs": [],
   "source": [
    "@qml.qnode(dev1)\n",
    "def circuit(params):\n",
    "    qml.RX(params[0], wires=0)\n",
    "    qml.RY(params[1], wires=0)\n",
    "    return qml.expval(qml.PauliZ(0))"
   ]
  },
  {
   "cell_type": "code",
   "execution_count": 7,
   "id": "10950a77-89cd-47ff-8b71-20fab7ad720a",
   "metadata": {},
   "outputs": [
    {
     "name": "stdout",
     "output_type": "stream",
     "text": [
      "0.85154057\n"
     ]
    }
   ],
   "source": [
    "params = np.array([0.54, 0.12])\n",
    "print(circuit(params))"
   ]
  },
  {
   "cell_type": "code",
   "execution_count": 8,
   "id": "8dd682dc-3c2c-4fe6-bff7-e63d63dd8672",
   "metadata": {},
   "outputs": [],
   "source": [
    "dcircuit = jax.grad(circuit, argnums = 0)"
   ]
  },
  {
   "cell_type": "code",
   "execution_count": 9,
   "id": "be6f2dac-29fe-4a88-9c90-6dd4fddb2900",
   "metadata": {},
   "outputs": [
    {
     "name": "stdout",
     "output_type": "stream",
     "text": [
      "[-0.5104387  -0.10267819]\n"
     ]
    }
   ],
   "source": [
    "print(dcircuit(params))"
   ]
  },
  {
   "cell_type": "code",
   "execution_count": 10,
   "id": "3d22f72e-aca6-459a-a0ae-260486048dd0",
   "metadata": {},
   "outputs": [],
   "source": [
    "@qml.qnode(dev1)\n",
    "def circuit2(phi1, phi2):\n",
    "    qml.RX(phi1, wires=0)\n",
    "    qml.RY(phi2, wires=0)\n",
    "    return qml.expval(qml.PauliZ(0))"
   ]
  },
  {
   "cell_type": "code",
   "execution_count": 11,
   "id": "ac55d6c3-5e6b-4711-a33c-efddc90fd4b3",
   "metadata": {},
   "outputs": [],
   "source": [
    "phi1 = np.array(0.54)\n",
    "phi2 = np.array(0.12)"
   ]
  },
  {
   "cell_type": "code",
   "execution_count": 12,
   "id": "0af1d0a4-08c2-40f9-b06b-05cd40b2ec5b",
   "metadata": {},
   "outputs": [],
   "source": [
    "dcircuit = jax.grad(circuit2, argnums = [0,1])"
   ]
  },
  {
   "cell_type": "code",
   "execution_count": 13,
   "id": "652c25bc-a9d3-4998-8569-78647e1487a5",
   "metadata": {},
   "outputs": [
    {
     "name": "stdout",
     "output_type": "stream",
     "text": [
      "(Array(-0.5104387, dtype=float32), Array(-0.10267819, dtype=float32))\n"
     ]
    }
   ],
   "source": [
    "print(dcircuit(phi1,phi2))"
   ]
  },
  {
   "cell_type": "code",
   "execution_count": 14,
   "id": "c5184a94-8c99-4362-848d-10e2e73ecc4a",
   "metadata": {},
   "outputs": [],
   "source": [
    "#Optimising two circuit parameters via gradient descent to minimize cost function"
   ]
  },
  {
   "cell_type": "code",
   "execution_count": 15,
   "id": "089d50d6-a69d-4e5c-8cec-82e8e3419e79",
   "metadata": {},
   "outputs": [],
   "source": [
    "def cost(x):\n",
    "    return circuit(x)"
   ]
  },
  {
   "cell_type": "code",
   "execution_count": 16,
   "id": "771f75bf-b63d-458c-8b60-78c5e7dcfac2",
   "metadata": {},
   "outputs": [],
   "source": [
    "init_params = np.array([0.011,0.012])"
   ]
  },
  {
   "cell_type": "code",
   "execution_count": 18,
   "id": "512daf65-1db3-4881-bdad-f317daaf9065",
   "metadata": {},
   "outputs": [
    {
     "name": "stdout",
     "output_type": "stream",
     "text": [
      "0.9998675\n"
     ]
    }
   ],
   "source": [
    "print(cost(init_params)) #very close to 1"
   ]
  },
  {
   "cell_type": "code",
   "execution_count": 20,
   "id": "d24e421f-d99f-44d7-a541-499bcdb38922",
   "metadata": {},
   "outputs": [],
   "source": [
    "import jaxopt"
   ]
  },
  {
   "cell_type": "code",
   "execution_count": 21,
   "id": "af06f355-fcc1-4e61-baf0-44a6d50d2427",
   "metadata": {},
   "outputs": [],
   "source": [
    "opt = jaxopt.GradientDescent(cost, stepsize = 0.4, acceleration = False)"
   ]
  },
  {
   "cell_type": "code",
   "execution_count": 22,
   "id": "141b9413-e62a-45e7-ae43-3b13db42a4ad",
   "metadata": {},
   "outputs": [],
   "source": [
    "steps = 50"
   ]
  },
  {
   "cell_type": "code",
   "execution_count": 23,
   "id": "2546d788-fb56-4bdd-8aef-7c1405fc7cce",
   "metadata": {},
   "outputs": [],
   "source": [
    "params = init_params"
   ]
  },
  {
   "cell_type": "code",
   "execution_count": 24,
   "id": "a47045f1-b83a-4ecc-a862-605e468ba7fc",
   "metadata": {},
   "outputs": [],
   "source": [
    "opt_state = opt.init_state(params)"
   ]
  },
  {
   "cell_type": "code",
   "execution_count": 26,
   "id": "155cd737-fe93-4af5-a431-bd8da2bb14a9",
   "metadata": {},
   "outputs": [
    {
     "name": "stdout",
     "output_type": "stream",
     "text": [
      "Cost after step     5: -1.0000000\n",
      "Cost after step    10: -1.0000000\n",
      "Cost after step    15: -1.0000000\n",
      "Cost after step    20: -1.0000000\n",
      "Cost after step    25: -1.0000000\n",
      "Cost after step    30: -1.0000000\n",
      "Cost after step    35: -1.0000000\n",
      "Cost after step    40: -1.0000000\n",
      "Cost after step    45: -1.0000000\n",
      "Cost after step    50: -1.0000000\n"
     ]
    }
   ],
   "source": [
    "for i in range(steps):\n",
    "    params,opt_state = opt.update(params, opt_state)\n",
    "    if (i+1)%5 == 0:\n",
    "        print(\"Cost after step {:5d}: {: .7f}\".format(i+1, cost(params)))"
   ]
  },
  {
   "cell_type": "code",
   "execution_count": 27,
   "id": "474c7a32-75e1-4a15-8d95-2a293ca7c842",
   "metadata": {},
   "outputs": [
    {
     "name": "stdout",
     "output_type": "stream",
     "text": [
      "Optimised rotation angles: [7.1526556e-18 3.1415925e+00]\n"
     ]
    }
   ],
   "source": [
    "print(\"Optimised rotation angles: {}\".format(params))"
   ]
  },
  {
   "cell_type": "code",
   "execution_count": null,
   "id": "9560c599-7a31-4351-bf07-4c5efadb8a93",
   "metadata": {},
   "outputs": [],
   "source": []
  }
 ],
 "metadata": {
  "kernelspec": {
   "display_name": "Python 3 (ipykernel)",
   "language": "python",
   "name": "python3"
  },
  "language_info": {
   "codemirror_mode": {
    "name": "ipython",
    "version": 3
   },
   "file_extension": ".py",
   "mimetype": "text/x-python",
   "name": "python",
   "nbconvert_exporter": "python",
   "pygments_lexer": "ipython3",
   "version": "3.11.9"
  }
 },
 "nbformat": 4,
 "nbformat_minor": 5
}
